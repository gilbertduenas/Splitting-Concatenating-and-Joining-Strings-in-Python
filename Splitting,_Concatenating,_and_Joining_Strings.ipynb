{
  "nbformat": 4,
  "nbformat_minor": 0,
  "metadata": {
    "colab": {
      "name": "Splitting, Concatenating, and Joining Strings",
      "provenance": [],
      "authorship_tag": "ABX9TyMzjRooofypODHoZjIH5nsj",
      "include_colab_link": true
    },
    "kernelspec": {
      "name": "python3",
      "display_name": "Python 3"
    }
  },
  "cells": [
    {
      "cell_type": "markdown",
      "metadata": {
        "id": "view-in-github",
        "colab_type": "text"
      },
      "source": [
        "<a href=\"https://colab.research.google.com/github/gilbertduenas/Splitting-Concatenating-and-Joining-Strings-in-Python/blob/master/Splitting%2C_Concatenating%2C_and_Joining_Strings.ipynb\" target=\"_parent\"><img src=\"https://colab.research.google.com/assets/colab-badge.svg\" alt=\"Open In Colab\"/></a>"
      ]
    },
    {
      "cell_type": "code",
      "metadata": {
        "id": "WBrYxrFamc3N",
        "colab_type": "code",
        "colab": {
          "base_uri": "https://localhost:8080/",
          "height": 35
        },
        "outputId": "ed59f8d1-78e1-40e9-afae-67a75e2e7689"
      },
      "source": [
        "'sup-er-c-a-l-ifr-agi-l-isti-c-ex-pi-ali-d-o-cio-us'.split(sep='-', maxsplit=5)"
      ],
      "execution_count": 1,
      "outputs": [
        {
          "output_type": "execute_result",
          "data": {
            "text/plain": [
              "['sup', 'er', 'c', 'a', 'l', 'ifr-agi-l-isti-c-ex-pi-ali-d-o-cio-us']"
            ]
          },
          "metadata": {
            "tags": []
          },
          "execution_count": 1
        }
      ]
    },
    {
      "cell_type": "markdown",
      "metadata": {
        "id": "NxMbOR-imLyh",
        "colab_type": "text"
      },
      "source": [
        "split() takes in two parameters: sep, the delimiter string, and maxsplit, which specifies the maximum number of splits to make on the input string.\n",
        "\n",
        "---"
      ]
    },
    {
      "cell_type": "code",
      "metadata": {
        "id": "HZCiitJaAA4i",
        "colab_type": "code",
        "colab": {}
      },
      "source": [
        "input_string = 'jzifeijhbejimiiaejmimveljimmeiel'"
      ],
      "execution_count": 2,
      "outputs": []
    },
    {
      "cell_type": "code",
      "metadata": {
        "id": "W0VRG57w_Oa5",
        "colab_type": "code",
        "colab": {
          "base_uri": "https://localhost:8080/",
          "height": 35
        },
        "outputId": "e9d5d77e-f01e-4538-e995-1b2ac2862097"
      },
      "source": [
        "input_string.split('e', maxsplit=2)"
      ],
      "execution_count": 3,
      "outputs": [
        {
          "output_type": "execute_result",
          "data": {
            "text/plain": [
              "['jzif', 'ijhb', 'jimiiaejmimveljimmeiel']"
            ]
          },
          "metadata": {
            "tags": []
          },
          "execution_count": 3
        }
      ]
    },
    {
      "cell_type": "code",
      "metadata": {
        "id": "9l2AxId4_TDb",
        "colab_type": "code",
        "colab": {
          "base_uri": "https://localhost:8080/",
          "height": 35
        },
        "outputId": "89bdbdf7-92cb-4778-b8e2-514f54abe33c"
      },
      "source": [
        "'e'.split(input_string, maxsplit=2)"
      ],
      "execution_count": 4,
      "outputs": [
        {
          "output_type": "execute_result",
          "data": {
            "text/plain": [
              "['e']"
            ]
          },
          "metadata": {
            "tags": []
          },
          "execution_count": 4
        }
      ]
    },
    {
      "cell_type": "code",
      "metadata": {
        "id": "Z5I9FYdd_VXh",
        "colab_type": "code",
        "colab": {
          "base_uri": "https://localhost:8080/",
          "height": 35
        },
        "outputId": "4892fa3e-8145-4407-889e-5fbf21c2b8e7"
      },
      "source": [
        "input_string.split('e', 2)"
      ],
      "execution_count": 5,
      "outputs": [
        {
          "output_type": "execute_result",
          "data": {
            "text/plain": [
              "['jzif', 'ijhb', 'jimiiaejmimveljimmeiel']"
            ]
          },
          "metadata": {
            "tags": []
          },
          "execution_count": 5
        }
      ]
    },
    {
      "cell_type": "code",
      "metadata": {
        "id": "AhzVVsHV_WgQ",
        "colab_type": "code",
        "colab": {
          "base_uri": "https://localhost:8080/",
          "height": 35
        },
        "outputId": "4532b5bf-c7c5-491a-95aa-c08bc051d870"
      },
      "source": [
        "'e'.split(input_string, 2)"
      ],
      "execution_count": 6,
      "outputs": [
        {
          "output_type": "execute_result",
          "data": {
            "text/plain": [
              "['e']"
            ]
          },
          "metadata": {
            "tags": []
          },
          "execution_count": 6
        }
      ]
    },
    {
      "cell_type": "markdown",
      "metadata": {
        "id": "JWDkFxh-_7Ka",
        "colab_type": "text"
      },
      "source": [
        "---"
      ]
    },
    {
      "cell_type": "code",
      "metadata": {
        "id": "zW5CfnsE_35-",
        "colab_type": "code",
        "colab": {}
      },
      "source": [
        "test = ['string1', 'string2']"
      ],
      "execution_count": 7,
      "outputs": []
    },
    {
      "cell_type": "code",
      "metadata": {
        "id": "Znoen0PjB-xA",
        "colab_type": "code",
        "colab": {
          "base_uri": "https://localhost:8080/",
          "height": 36
        },
        "outputId": "5b57e226-9191-4ff6-c764-e7df1bc0fcdd"
      },
      "source": [
        "''.join(test) * 3"
      ],
      "execution_count": 8,
      "outputs": [
        {
          "output_type": "execute_result",
          "data": {
            "application/vnd.google.colaboratory.intrinsic": {
              "type": "string"
            },
            "text/plain": [
              "'string1string2string1string2string1string2'"
            ]
          },
          "metadata": {
            "tags": []
          },
          "execution_count": 8
        }
      ]
    },
    {
      "cell_type": "markdown",
      "metadata": {
        "id": "i7nEau2tDVWp",
        "colab_type": "text"
      },
      "source": [
        "---"
      ]
    },
    {
      "cell_type": "markdown",
      "metadata": {
        "id": "7xsvYhgbDZSH",
        "colab_type": "text"
      },
      "source": [
        "Immutability is a key property of strings as implemented in Python. While it is true that strings can’t be divided by numbers, that is not the meaning of immutability. Instead, immutability means that strings can not be changed.\n",
        "\n",
        "---"
      ]
    },
    {
      "cell_type": "markdown",
      "metadata": {
        "id": "ooY4la8OEDwS",
        "colab_type": "text"
      },
      "source": [
        "The list to join is always the sole input to join(), which is called on the string you want to join with.\n",
        "\n",
        "    input_list = ['a', 'b', 'c']\n",
        "    ','.join(input_list)\n",
        "\n",
        "'a,b,c'\n",
        "\n",
        "---"
      ]
    },
    {
      "cell_type": "markdown",
      "metadata": {
        "id": "54N7lgOkEZ66",
        "colab_type": "text"
      },
      "source": [
        "Concatenation is an additive operation, so you can not subtract or divide strings from each other.\n",
        "\n",
        "---"
      ]
    },
    {
      "cell_type": "code",
      "metadata": {
        "id": "kB_C7RWgDTVQ",
        "colab_type": "code",
        "colab": {}
      },
      "source": [
        ""
      ],
      "execution_count": 8,
      "outputs": []
    }
  ]
}