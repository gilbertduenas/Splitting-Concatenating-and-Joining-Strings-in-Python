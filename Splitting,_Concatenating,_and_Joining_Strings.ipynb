{
  "nbformat": 4,
  "nbformat_minor": 0,
  "metadata": {
    "colab": {
      "name": "Splitting, Concatenating, and Joining Strings",
      "provenance": [],
      "authorship_tag": "ABX9TyMzjRooofypODHoZjIH5nsj",
      "include_colab_link": true
    },
    "kernelspec": {
      "name": "python3",
      "display_name": "Python 3"
    }
  },
  "cells": [
    {
      "cell_type": "markdown",
      "metadata": {
        "id": "view-in-github",
        "colab_type": "text"
      },
      "source": [
        "<a href=\"https://colab.research.google.com/github/gilbertduenas/Splitting-Concatenating-and-Joining-Strings-in-Python/blob/master/Splitting%2C_Concatenating%2C_and_Joining_Strings.ipynb\" target=\"_parent\"><img src=\"https://colab.research.google.com/assets/colab-badge.svg\" alt=\"Open In Colab\"/></a>"
      ]
    },
    {
      "cell_type": "code",
      "metadata": {
        "id": "WBrYxrFamc3N",
        "colab_type": "code",
        "colab": {
          "base_uri": "https://localhost:8080/",
          "height": 35
        },
        "outputId": "1fac08e2-63c4-4bdc-ef7e-1995114103ab"
      },
      "source": [
        "'sup-er-c-a-l-ifr-agi-l-isti-c-ex-pi-ali-d-o-cio-us'.split(sep='-', maxsplit=5)"
      ],
      "execution_count": 7,
      "outputs": [
        {
          "output_type": "execute_result",
          "data": {
            "text/plain": [
              "['sup', 'er', 'c', 'a', 'l', 'ifr-agi-l-isti-c-ex-pi-ali-d-o-cio-us']"
            ]
          },
          "metadata": {
            "tags": []
          },
          "execution_count": 7
        }
      ]
    },
    {
      "cell_type": "markdown",
      "metadata": {
        "id": "NxMbOR-imLyh",
        "colab_type": "text"
      },
      "source": [
        "split() takes in two parameters: sep, the delimiter string, and maxsplit, which specifies the maximum number of splits to make on the input string.\n",
        "\n",
        "---"
      ]
    },
    {
      "cell_type": "code",
      "metadata": {
        "id": "HZCiitJaAA4i",
        "colab_type": "code",
        "colab": {}
      },
      "source": [
        "input_string = 'jzifeijhbejimiiaejmimveljimmeiel'"
      ],
      "execution_count": 15,
      "outputs": []
    },
    {
      "cell_type": "code",
      "metadata": {
        "id": "W0VRG57w_Oa5",
        "colab_type": "code",
        "colab": {
          "base_uri": "https://localhost:8080/",
          "height": 35
        },
        "outputId": "1449415a-158a-4935-de93-5014eaba765f"
      },
      "source": [
        "input_string.split('e', maxsplit=2)"
      ],
      "execution_count": 16,
      "outputs": [
        {
          "output_type": "execute_result",
          "data": {
            "text/plain": [
              "['jzif', 'ijhb', 'jimiiaejmimveljimmeiel']"
            ]
          },
          "metadata": {
            "tags": []
          },
          "execution_count": 16
        }
      ]
    },
    {
      "cell_type": "code",
      "metadata": {
        "id": "9l2AxId4_TDb",
        "colab_type": "code",
        "colab": {
          "base_uri": "https://localhost:8080/",
          "height": 35
        },
        "outputId": "61bcb947-88b1-4c14-c362-6d8e7f9ee20c"
      },
      "source": [
        "'e'.split(input_string, maxsplit=2)"
      ],
      "execution_count": 17,
      "outputs": [
        {
          "output_type": "execute_result",
          "data": {
            "text/plain": [
              "['e']"
            ]
          },
          "metadata": {
            "tags": []
          },
          "execution_count": 17
        }
      ]
    },
    {
      "cell_type": "code",
      "metadata": {
        "id": "Z5I9FYdd_VXh",
        "colab_type": "code",
        "colab": {
          "base_uri": "https://localhost:8080/",
          "height": 35
        },
        "outputId": "b99539fa-c4a9-4eea-b182-195799c52458"
      },
      "source": [
        "input_string.split('e', 2)"
      ],
      "execution_count": 18,
      "outputs": [
        {
          "output_type": "execute_result",
          "data": {
            "text/plain": [
              "['jzif', 'ijhb', 'jimiiaejmimveljimmeiel']"
            ]
          },
          "metadata": {
            "tags": []
          },
          "execution_count": 18
        }
      ]
    },
    {
      "cell_type": "code",
      "metadata": {
        "id": "AhzVVsHV_WgQ",
        "colab_type": "code",
        "colab": {
          "base_uri": "https://localhost:8080/",
          "height": 35
        },
        "outputId": "bd4a9e7a-c84b-4c4e-bfb6-7ca4c77b9d28"
      },
      "source": [
        "'e'.split(input_string, 2)"
      ],
      "execution_count": 19,
      "outputs": [
        {
          "output_type": "execute_result",
          "data": {
            "text/plain": [
              "['e']"
            ]
          },
          "metadata": {
            "tags": []
          },
          "execution_count": 19
        }
      ]
    },
    {
      "cell_type": "markdown",
      "metadata": {
        "id": "JWDkFxh-_7Ka",
        "colab_type": "text"
      },
      "source": [
        "---"
      ]
    },
    {
      "cell_type": "code",
      "metadata": {
        "id": "zW5CfnsE_35-",
        "colab_type": "code",
        "colab": {}
      },
      "source": [
        "test = ['string1', 'string2']"
      ],
      "execution_count": 20,
      "outputs": []
    },
    {
      "cell_type": "code",
      "metadata": {
        "id": "Znoen0PjB-xA",
        "colab_type": "code",
        "colab": {
          "base_uri": "https://localhost:8080/",
          "height": 36
        },
        "outputId": "1701efad-ed5b-4ab5-e336-b730337d936b"
      },
      "source": [
        "''.join(test) * 3"
      ],
      "execution_count": 24,
      "outputs": [
        {
          "output_type": "execute_result",
          "data": {
            "application/vnd.google.colaboratory.intrinsic": {
              "type": "string"
            },
            "text/plain": [
              "'string1string2string1string2string1string2'"
            ]
          },
          "metadata": {
            "tags": []
          },
          "execution_count": 24
        }
      ]
    },
    {
      "cell_type": "markdown",
      "metadata": {
        "id": "i7nEau2tDVWp",
        "colab_type": "text"
      },
      "source": [
        "---"
      ]
    },
    {
      "cell_type": "markdown",
      "metadata": {
        "id": "7xsvYhgbDZSH",
        "colab_type": "text"
      },
      "source": [
        "Immutability is a key property of strings as implemented in Python. While it is true that strings can’t be divided by numbers, that is not the meaning of immutability. Instead, immutability means that strings can not be changed.\n",
        "\n",
        "---"
      ]
    },
    {
      "cell_type": "markdown",
      "metadata": {
        "id": "ooY4la8OEDwS",
        "colab_type": "text"
      },
      "source": [
        "The list to join is always the sole input to join(), which is called on the string you want to join with.\n",
        "\n",
        "    input_list = ['a', 'b', 'c']\n",
        "    ','.join(input_list)\n",
        "\n",
        "'a,b,c'\n",
        "\n",
        "---"
      ]
    },
    {
      "cell_type": "markdown",
      "metadata": {
        "id": "54N7lgOkEZ66",
        "colab_type": "text"
      },
      "source": [
        "Concatenation is an additive operation, so you can not subtract or divide strings from each other.\n",
        "\n",
        "---"
      ]
    },
    {
      "cell_type": "code",
      "metadata": {
        "id": "kB_C7RWgDTVQ",
        "colab_type": "code",
        "colab": {}
      },
      "source": [
        ""
      ],
      "execution_count": null,
      "outputs": []
    }
  ]
}